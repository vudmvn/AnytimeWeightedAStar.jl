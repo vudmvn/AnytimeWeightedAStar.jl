{
  "nbformat": 4,
  "nbformat_minor": 0,
  "metadata": {
    "colab": {
      "provenance": [],
      "authorship_tag": "ABX9TyO8vWfOcKx0D/iaNOp36fFs",
      "include_colab_link": true
    },
    "kernelspec": {
      "name": "python3",
      "display_name": "Python 3"
    },
    "language_info": {
      "name": "python"
    }
  },
  "cells": [
    {
      "cell_type": "markdown",
      "metadata": {
        "id": "view-in-github",
        "colab_type": "text"
      },
      "source": [
        "<a href=\"https://colab.research.google.com/github/vudmvn/AnytimeWeightedAStar.jl/blob/main/C7_List.ipynb\" target=\"_parent\"><img src=\"https://colab.research.google.com/assets/colab-badge.svg\" alt=\"Open In Colab\"/></a>"
      ]
    },
    {
      "cell_type": "markdown",
      "source": [
        "# 6.1 Basic Properties of Lists\n"
      ],
      "metadata": {
        "id": "Euo3z4hc9RFR"
      }
    },
    {
      "cell_type": "code",
      "execution_count": 1,
      "metadata": {
        "colab": {
          "base_uri": "https://localhost:8080/"
        },
        "id": "PGgTBPBy8E45",
        "outputId": "fbed3d5d-1c4e-413f-ce08-c4497c77eccb"
      },
      "outputs": [
        {
          "output_type": "stream",
          "name": "stdout",
          "text": [
            "[32, 54, 67.5, 29, 35, 80, 115, 44.5, 100, 65]\n"
          ]
        }
      ],
      "source": [
        "values = [32, 54, 67.5, 29, 35, 80, 115, 44.5, 100, 65] # A list with ten elements\n",
        "print(values)"
      ]
    },
    {
      "cell_type": "code",
      "source": [
        "print(values[5]) # Prints 80, the element at index 5 0\n"
      ],
      "metadata": {
        "colab": {
          "base_uri": "https://localhost:8080/"
        },
        "id": "p0nB9fya8O1F",
        "outputId": "3226d933-9e5b-48a0-e2c4-73fbac2e6f70"
      },
      "execution_count": 2,
      "outputs": [
        {
          "output_type": "stream",
          "name": "stdout",
          "text": [
            "80\n"
          ]
        }
      ]
    },
    {
      "cell_type": "code",
      "source": [
        "values[5] = 87\n",
        "print(values[5])\n"
      ],
      "metadata": {
        "colab": {
          "base_uri": "https://localhost:8080/"
        },
        "id": "CfeNEh7z8TGv",
        "outputId": "2aad0a46-92d6-4d58-8a79-33a73df2e43b"
      },
      "execution_count": 3,
      "outputs": [
        {
          "output_type": "stream",
          "name": "stdout",
          "text": [
            "87\n"
          ]
        }
      ]
    },
    {
      "cell_type": "code",
      "source": [
        "values[10] = -1\n"
      ],
      "metadata": {
        "colab": {
          "base_uri": "https://localhost:8080/",
          "height": 146
        },
        "id": "Ii90bPEi8Zsi",
        "outputId": "ff870c56-4f48-446a-d09e-972e1f5353ad"
      },
      "execution_count": 5,
      "outputs": [
        {
          "output_type": "error",
          "ename": "IndexError",
          "evalue": "list assignment index out of range",
          "traceback": [
            "\u001b[0;31m---------------------------------------------------------------------------\u001b[0m",
            "\u001b[0;31mIndexError\u001b[0m                                Traceback (most recent call last)",
            "\u001b[0;32m<ipython-input-5-554cc5c8cba8>\u001b[0m in \u001b[0;36m<cell line: 1>\u001b[0;34m()\u001b[0m\n\u001b[0;32m----> 1\u001b[0;31m \u001b[0mvalues\u001b[0m\u001b[0;34m[\u001b[0m\u001b[0;36m10\u001b[0m\u001b[0;34m]\u001b[0m \u001b[0;34m=\u001b[0m \u001b[0;34m-\u001b[0m\u001b[0;36m1\u001b[0m\u001b[0;34m\u001b[0m\u001b[0;34m\u001b[0m\u001b[0m\n\u001b[0m",
            "\u001b[0;31mIndexError\u001b[0m: list assignment index out of range"
          ]
        }
      ]
    },
    {
      "cell_type": "code",
      "source": [
        "for i in range(10) :\n",
        "  print(i, values[i])"
      ],
      "metadata": {
        "colab": {
          "base_uri": "https://localhost:8080/"
        },
        "id": "4Ll7XpVl8eKz",
        "outputId": "0669394d-48cf-4849-8ef9-d8343b5a68f7"
      },
      "execution_count": 6,
      "outputs": [
        {
          "output_type": "stream",
          "name": "stdout",
          "text": [
            "0 32\n",
            "1 54\n",
            "2 67.5\n",
            "3 29\n",
            "4 35\n",
            "5 87\n",
            "6 115\n",
            "7 44.5\n",
            "8 100\n",
            "9 65\n"
          ]
        }
      ]
    },
    {
      "cell_type": "code",
      "source": [
        "for i in range(len(values)) :\n",
        "  print(i, values[i])"
      ],
      "metadata": {
        "colab": {
          "base_uri": "https://localhost:8080/"
        },
        "id": "SXNQbPf38lch",
        "outputId": "6d9c46aa-8a97-4bd6-a012-caf37aa0f208"
      },
      "execution_count": 7,
      "outputs": [
        {
          "output_type": "stream",
          "name": "stdout",
          "text": [
            "0 32\n",
            "1 54\n",
            "2 67.5\n",
            "3 29\n",
            "4 35\n",
            "5 87\n",
            "6 115\n",
            "7 44.5\n",
            "8 100\n",
            "9 65\n"
          ]
        }
      ]
    },
    {
      "cell_type": "code",
      "source": [
        "for element in values :\n",
        "  print(element)"
      ],
      "metadata": {
        "colab": {
          "base_uri": "https://localhost:8080/"
        },
        "id": "1O6iCchE8ohl",
        "outputId": "47166040-8e56-4261-8f88-bc23eb2b149a"
      },
      "execution_count": 8,
      "outputs": [
        {
          "output_type": "stream",
          "name": "stdout",
          "text": [
            "32\n",
            "54\n",
            "67.5\n",
            "29\n",
            "35\n",
            "87\n",
            "115\n",
            "44.5\n",
            "100\n",
            "65\n"
          ]
        }
      ]
    },
    {
      "cell_type": "code",
      "source": [
        "scores = [10, 9, 7, 4, 5]\n",
        "values = scores # Copying list referencé\n",
        "\n",
        "print(values)\n",
        "\n",
        "scores[3] = 10\n",
        "print(values[3])"
      ],
      "metadata": {
        "colab": {
          "base_uri": "https://localhost:8080/"
        },
        "id": "yfY2cpAQ8szW",
        "outputId": "982d4cc0-5b2c-4df3-90c7-6639a3e4d8bf"
      },
      "execution_count": 9,
      "outputs": [
        {
          "output_type": "stream",
          "name": "stdout",
          "text": [
            "[10, 9, 7, 4, 5]\n",
            "10\n"
          ]
        }
      ]
    },
    {
      "cell_type": "code",
      "source": [
        "last = values[-1]\n",
        "print(\"The last element in the list is\", last)"
      ],
      "metadata": {
        "colab": {
          "base_uri": "https://localhost:8080/"
        },
        "id": "esTwPMsA80W0",
        "outputId": "48ba8c05-48a3-4953-e4d7-f064a07a50a4"
      },
      "execution_count": 10,
      "outputs": [
        {
          "output_type": "stream",
          "name": "stdout",
          "text": [
            "The last element in the list is 5\n"
          ]
        }
      ]
    },
    {
      "cell_type": "markdown",
      "source": [
        "# 6.2 List Operations\n",
        ""
      ],
      "metadata": {
        "id": "gVwhngIv89t6"
      }
    },
    {
      "cell_type": "code",
      "source": [
        "friends = []\n",
        "friends.append(\"Harry\")\n",
        "\n",
        "print(friends)\n",
        "\n",
        "friends.append(\"Emily\")\n",
        "friends.append(\"Bob\")\n",
        "friends.append(\"Cari\")\n",
        "\n",
        "print(friends)\n"
      ],
      "metadata": {
        "colab": {
          "base_uri": "https://localhost:8080/"
        },
        "id": "n_L8fYo49ECM",
        "outputId": "3cb5f99f-17cf-4fd2-d500-acb76b27962b"
      },
      "execution_count": 12,
      "outputs": [
        {
          "output_type": "stream",
          "name": "stdout",
          "text": [
            "['Harry']\n",
            "['Harry', 'Emily', 'Bob', 'Cari']\n"
          ]
        }
      ]
    },
    {
      "cell_type": "code",
      "source": [
        "friends.insert(1, \"Cindy\")\n",
        "print(friends)\n",
        "\n",
        "friends.insert(5, \"Bill\")\n",
        "print(friends)\n",
        "\n"
      ],
      "metadata": {
        "colab": {
          "base_uri": "https://localhost:8080/"
        },
        "id": "aXNw9IYG9eJU",
        "outputId": "de414f09-7990-4552-c965-cb08a18457e6"
      },
      "execution_count": 13,
      "outputs": [
        {
          "output_type": "stream",
          "name": "stdout",
          "text": [
            "['Harry', 'Cindy', 'Emily', 'Bob', 'Cari']\n",
            "['Harry', 'Cindy', 'Emily', 'Bob', 'Cari', 'Bill']\n"
          ]
        }
      ]
    },
    {
      "cell_type": "code",
      "source": [
        "if \"Cindy\" in friends :\n",
        "  print(\"She's a friend\")"
      ],
      "metadata": {
        "colab": {
          "base_uri": "https://localhost:8080/"
        },
        "id": "OXixELI29mG7",
        "outputId": "0913ee83-95a6-40f5-c00e-7b4f2e4b3806"
      },
      "execution_count": 14,
      "outputs": [
        {
          "output_type": "stream",
          "name": "stdout",
          "text": [
            "She's a friend\n"
          ]
        }
      ]
    },
    {
      "cell_type": "code",
      "source": [
        "friends = [\"Harry\", \"Emily\", \"Bob\", \"Cari\", \"Emily\"]\n",
        "n = friends.index(\"Emily\") # Sets n to 1\n",
        "print(n)\n",
        "\n",
        "n2 = friends.index(\"Emily\", n + 1) # Sets n2 to 4\n",
        "print(n2)\n",
        "\n",
        "if \"Cindy\" in friends :\n",
        "  n = friends.index(\"Cindy\")\n",
        "else :\n",
        "  n = -1\n",
        "print(n)"
      ],
      "metadata": {
        "colab": {
          "base_uri": "https://localhost:8080/"
        },
        "id": "IOH4B8rc9qRz",
        "outputId": "265442ab-eb1d-4f06-ae32-ef427640ac7b"
      },
      "execution_count": 17,
      "outputs": [
        {
          "output_type": "stream",
          "name": "stdout",
          "text": [
            "1\n",
            "4\n",
            "-1\n"
          ]
        }
      ]
    },
    {
      "cell_type": "code",
      "source": [
        "friends = [\"Harry\", \"Cindy\", \"Emily\", \"Bob\", \"Cari\", \"Bill\"]\n",
        "\n",
        "friends.pop(1)\n",
        "print(friends)\n",
        "\n",
        "print(\"The removed item is\", friends.pop(1))\n",
        "\n",
        "friends.remove(\"Cari\")\n",
        "print(friends)\n",
        "\n",
        "element = \"Cari\"\n",
        "if element in friends :\n",
        "  friends.remove(element)\n",
        "print(friends)\n"
      ],
      "metadata": {
        "colab": {
          "base_uri": "https://localhost:8080/"
        },
        "id": "wAfhrdl996hU",
        "outputId": "67729c3a-6c83-47f1-9c59-ca0d9e174c77"
      },
      "execution_count": 23,
      "outputs": [
        {
          "output_type": "stream",
          "name": "stdout",
          "text": [
            "['Harry', 'Emily', 'Bob', 'Cari', 'Bill']\n",
            "The removed item is Emily\n",
            "['Harry', 'Bob', 'Bill']\n",
            "['Harry', 'Bob', 'Bill']\n"
          ]
        }
      ]
    },
    {
      "cell_type": "code",
      "source": [
        "myFriends = [\"Fritz\", \"Cindy\"]\n",
        "yourFriends = [\"Lee\", \"Pat\", \"Phuong\"]\n",
        "ourFriends = myFriends + yourFriends # Sets ourFriends to [\"Fritz\", \"Cindy\", \"Lee\", \"Pat\", \"Phuong\"]\n",
        "\n",
        "print(ourFriends)"
      ],
      "metadata": {
        "colab": {
          "base_uri": "https://localhost:8080/"
        },
        "id": "ltxdFQIm-XKm",
        "outputId": "a9ce712d-f267-43fb-fce7-81af23c91d21"
      },
      "execution_count": 24,
      "outputs": [
        {
          "output_type": "stream",
          "name": "stdout",
          "text": [
            "['Fritz', 'Cindy', 'Lee', 'Pat', 'Phuong']\n"
          ]
        }
      ]
    },
    {
      "cell_type": "code",
      "source": [
        "monthInQuarter = [1, 2, 3] * 4 # The list is [1, 2, 3, 1, 2, 3, 1, 2, 3, 1, 2, 3]\n",
        "print(monthInQuarter)\n",
        "\n",
        "monthlyScores = [0] * 12 # The list is [0, 0, 0, 0, 0, 0, 0, 0, 0, 0, 0, 0]\n",
        "print(monthlyScores)"
      ],
      "metadata": {
        "colab": {
          "base_uri": "https://localhost:8080/"
        },
        "id": "kvuI06qh-eKQ",
        "outputId": "1df3f170-66a5-4e17-8dd0-132261ff3f32"
      },
      "execution_count": 26,
      "outputs": [
        {
          "output_type": "stream",
          "name": "stdout",
          "text": [
            "[1, 2, 3, 1, 2, 3, 1, 2, 3, 1, 2, 3]\n",
            "[0, 0, 0, 0, 0, 0, 0, 0, 0, 0, 0, 0]\n"
          ]
        }
      ]
    },
    {
      "cell_type": "code",
      "source": [
        "print([1, 4, 9] == [1, 4, 9] )\n",
        "print([1, 4, 9 ] == [4, 1, 9])\n",
        "print([1, 4, 9] != [4, 9])"
      ],
      "metadata": {
        "colab": {
          "base_uri": "https://localhost:8080/"
        },
        "id": "GG0B7qj1_RCa",
        "outputId": "d2a08d13-79e7-410c-b3f1-dce5e8af85d3"
      },
      "execution_count": 27,
      "outputs": [
        {
          "output_type": "stream",
          "name": "stdout",
          "text": [
            "True\n",
            "False\n",
            "True\n"
          ]
        }
      ]
    },
    {
      "cell_type": "code",
      "source": [],
      "metadata": {
        "id": "xPKj0hnq9vWa"
      },
      "execution_count": null,
      "outputs": []
    }
  ]
}